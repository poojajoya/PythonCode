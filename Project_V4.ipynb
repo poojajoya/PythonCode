{
 "cells": [
  {
   "cell_type": "code",
   "execution_count": 2,
   "metadata": {},
   "outputs": [
    {
     "name": "stdout",
     "output_type": "stream",
     "text": [
      "\n",
      "\n",
      "************************************************************\n",
      "               Vidya Niketan school               \n",
      "************************************************************\n",
      "\n",
      "1. Teacher Login\n",
      "2. Student Login\n",
      "3. Exit\n",
      "Please enter your choice to login1\n",
      "\n",
      "\n",
      "************************************************************\n",
      "              Teacher Login Console               \n",
      "************************************************************\n",
      "\n",
      "Enter Username :Pooja\n",
      "\n",
      "Enter Password :P123\n",
      "\n",
      " User authentication successful\n",
      "\n",
      "1. Get Result using Roll Number\n",
      "2. Enter Student Result\n",
      "3. Show Students rankwise\n",
      "4. Go back to main menu\n",
      "Enter your choice3\n",
      "\n",
      "\n",
      "************************************************************\n",
      "               Vidya Niketan school               \n",
      "************************************************************\n",
      "\n",
      " Name    Percentage      Rank\n",
      "Divya       96.33            1\n",
      "Charlie      92.0            2\n",
      "Gus         88.67            3\n",
      "Akash       85.33            4\n",
      "Divya       81.33            5\n",
      "Akshay       77.0            6\n",
      "Akshat       74.0            7\n",
      "Divya        71.0            8\n",
      "Pooja        69.0            9\n",
      "Divya        60.0           10\n",
      "Pooja Joya   57.0           11\n",
      "Delta        44.0           12\n",
      "Mikey       40.33           13\n",
      "Chetan       36.0           14\n",
      "\n",
      "1. Get Result using Roll Number\n",
      "2. Enter Student Result\n",
      "3. Show Students rankwise\n",
      "4. Go back to main menu\n",
      "Enter your choice4\n"
     ]
    },
    {
     "ename": "NameError",
     "evalue": "name 'MainPage' is not defined",
     "output_type": "error",
     "traceback": [
      "\u001b[1;31m---------------------------------------------------------------------------\u001b[0m",
      "\u001b[1;31mNameError\u001b[0m                                 Traceback (most recent call last)",
      "\u001b[1;32m<ipython-input-2-c66964714917>\u001b[0m in \u001b[0;36m<module>\u001b[1;34m\u001b[0m\n\u001b[0;32m     21\u001b[0m \u001b[1;32mif\u001b[0m \u001b[0m__name__\u001b[0m \u001b[1;33m==\u001b[0m \u001b[1;34m'__main__'\u001b[0m\u001b[1;33m:\u001b[0m\u001b[1;33m\u001b[0m\u001b[1;33m\u001b[0m\u001b[0m\n\u001b[0;32m     22\u001b[0m     \u001b[0mheader\u001b[0m\u001b[1;33m.\u001b[0m\u001b[0mheaders\u001b[0m\u001b[1;33m(\u001b[0m\u001b[1;34m\"Vidya Niketan school\"\u001b[0m\u001b[1;33m)\u001b[0m\u001b[1;33m\u001b[0m\u001b[1;33m\u001b[0m\u001b[0m\n\u001b[1;32m---> 23\u001b[1;33m     \u001b[0mLogin_page\u001b[0m\u001b[1;33m(\u001b[0m\u001b[1;33m)\u001b[0m\u001b[1;33m\u001b[0m\u001b[1;33m\u001b[0m\u001b[0m\n\u001b[0m",
      "\u001b[1;32m<ipython-input-2-c66964714917>\u001b[0m in \u001b[0;36mLogin_page\u001b[1;34m()\u001b[0m\n\u001b[0;32m     11\u001b[0m     \u001b[0mchoice\u001b[0m\u001b[1;33m=\u001b[0m\u001b[0mint\u001b[0m\u001b[1;33m(\u001b[0m\u001b[0minput\u001b[0m\u001b[1;33m(\u001b[0m\u001b[1;34m\"Please enter your choice to login\"\u001b[0m\u001b[1;33m)\u001b[0m\u001b[1;33m)\u001b[0m\u001b[1;33m\u001b[0m\u001b[1;33m\u001b[0m\u001b[0m\n\u001b[0;32m     12\u001b[0m     \u001b[1;32mif\u001b[0m \u001b[0mchoice\u001b[0m \u001b[1;33m==\u001b[0m \u001b[1;36m1\u001b[0m \u001b[1;33m:\u001b[0m\u001b[1;33m\u001b[0m\u001b[1;33m\u001b[0m\u001b[0m\n\u001b[1;32m---> 13\u001b[1;33m         \u001b[0mTeacher\u001b[0m\u001b[1;33m.\u001b[0m\u001b[0mteacher_login\u001b[0m\u001b[1;33m(\u001b[0m\u001b[1;33m)\u001b[0m\u001b[1;33m\u001b[0m\u001b[1;33m\u001b[0m\u001b[0m\n\u001b[0m\u001b[0;32m     14\u001b[0m     \u001b[1;32melif\u001b[0m \u001b[0mchoice\u001b[0m \u001b[1;33m==\u001b[0m \u001b[1;36m2\u001b[0m \u001b[1;33m:\u001b[0m\u001b[1;33m\u001b[0m\u001b[1;33m\u001b[0m\u001b[0m\n\u001b[0;32m     15\u001b[0m         \u001b[0mStudent\u001b[0m\u001b[1;33m.\u001b[0m\u001b[0mstudent_login\u001b[0m\u001b[1;33m(\u001b[0m\u001b[1;33m)\u001b[0m\u001b[1;33m\u001b[0m\u001b[1;33m\u001b[0m\u001b[0m\n",
      "\u001b[1;32m~\\Desktop\\Python_scripts\\Teacher.py\u001b[0m in \u001b[0;36mteacher_login\u001b[1;34m()\u001b[0m\n\u001b[0;32m     15\u001b[0m             \u001b[1;32mif\u001b[0m \u001b[0mMainPage\u001b[0m\u001b[1;33m.\u001b[0m\u001b[0mDebug\u001b[0m \u001b[1;33m==\u001b[0m \u001b[1;34m\"True\"\u001b[0m\u001b[1;33m:\u001b[0m\u001b[1;33m\u001b[0m\u001b[1;33m\u001b[0m\u001b[0m\n\u001b[0;32m     16\u001b[0m                 \u001b[0mDebug_logs\u001b[0m\u001b[1;33m.\u001b[0m\u001b[0mdebug_logs\u001b[0m\u001b[1;33m(\u001b[0m\u001b[1;34m'result.log'\u001b[0m\u001b[1;33m,\u001b[0m\u001b[1;34mf\"User authentication successful for user - {username}\"\u001b[0m\u001b[1;33m,\u001b[0m\u001b[1;34m'INFO'\u001b[0m\u001b[1;33m)\u001b[0m\u001b[1;33m\u001b[0m\u001b[1;33m\u001b[0m\u001b[0m\n\u001b[1;32m---> 17\u001b[1;33m             \u001b[0mteacher_login_console\u001b[0m\u001b[1;33m(\u001b[0m\u001b[1;33m)\u001b[0m\u001b[1;33m\u001b[0m\u001b[1;33m\u001b[0m\u001b[0m\n\u001b[0m\u001b[0;32m     18\u001b[0m     \u001b[1;32mif\u001b[0m \u001b[0muserFound\u001b[0m \u001b[1;33m==\u001b[0m \u001b[1;36m0\u001b[0m\u001b[1;33m:\u001b[0m\u001b[1;33m\u001b[0m\u001b[1;33m\u001b[0m\u001b[0m\n\u001b[0;32m     19\u001b[0m         \u001b[0mprint\u001b[0m\u001b[1;33m(\u001b[0m\u001b[1;34mf\"\\n User : {username} doesn't exists or Password doesn't match, Please try logging in again\"\u001b[0m\u001b[1;33m,\u001b[0m\u001b[1;34m'ERROR'\u001b[0m\u001b[1;33m)\u001b[0m\u001b[1;33m\u001b[0m\u001b[1;33m\u001b[0m\u001b[0m\n",
      "\u001b[1;32m~\\Desktop\\Python_scripts\\Teacher.py\u001b[0m in \u001b[0;36mteacher_login_console\u001b[1;34m()\u001b[0m\n\u001b[0;32m     38\u001b[0m         \u001b[0mAddResult\u001b[0m\u001b[1;33m.\u001b[0m\u001b[0madd_result\u001b[0m\u001b[1;33m(\u001b[0m\u001b[1;33m)\u001b[0m\u001b[1;33m\u001b[0m\u001b[1;33m\u001b[0m\u001b[0m\n\u001b[0;32m     39\u001b[0m     \u001b[1;32melif\u001b[0m \u001b[0mchoice1\u001b[0m \u001b[1;33m==\u001b[0m \u001b[1;36m3\u001b[0m\u001b[1;33m:\u001b[0m\u001b[1;33m\u001b[0m\u001b[1;33m\u001b[0m\u001b[0m\n\u001b[1;32m---> 40\u001b[1;33m         \u001b[0mShowAll\u001b[0m\u001b[1;33m.\u001b[0m\u001b[0mShowAll_result\u001b[0m\u001b[1;33m(\u001b[0m\u001b[1;33m)\u001b[0m\u001b[1;33m\u001b[0m\u001b[1;33m\u001b[0m\u001b[0m\n\u001b[0m\u001b[0;32m     41\u001b[0m     \u001b[1;32melif\u001b[0m \u001b[0mchoice1\u001b[0m \u001b[1;33m==\u001b[0m \u001b[1;36m4\u001b[0m\u001b[1;33m:\u001b[0m\u001b[1;33m\u001b[0m\u001b[1;33m\u001b[0m\u001b[0m\n\u001b[0;32m     42\u001b[0m         \u001b[0mMainPage\u001b[0m\u001b[1;33m.\u001b[0m\u001b[0mLogin_page\u001b[0m\u001b[1;33m(\u001b[0m\u001b[1;33m)\u001b[0m\u001b[1;33m\u001b[0m\u001b[1;33m\u001b[0m\u001b[0m\n",
      "\u001b[1;32m~\\Desktop\\Python_scripts\\ShowAll.py\u001b[0m in \u001b[0;36mShowAll_result\u001b[1;34m()\u001b[0m\n\u001b[0;32m      9\u001b[0m     \u001b[0mdata\u001b[0m\u001b[1;33m=\u001b[0m\u001b[0mdb\u001b[0m\u001b[1;33m(\u001b[0m\u001b[1;33m)\u001b[0m\u001b[1;33m\u001b[0m\u001b[1;33m\u001b[0m\u001b[0m\n\u001b[0;32m     10\u001b[0m     \u001b[0mdata\u001b[0m\u001b[1;33m.\u001b[0m\u001b[0mselectall_db\u001b[0m\u001b[1;33m(\u001b[0m\u001b[1;33m)\u001b[0m\u001b[1;33m\u001b[0m\u001b[1;33m\u001b[0m\u001b[0m\n\u001b[1;32m---> 11\u001b[1;33m     \u001b[0mTeacher\u001b[0m\u001b[1;33m.\u001b[0m\u001b[0mteacher_login_console\u001b[0m\u001b[1;33m(\u001b[0m\u001b[1;33m)\u001b[0m\u001b[1;33m\u001b[0m\u001b[1;33m\u001b[0m\u001b[0m\n\u001b[0m",
      "\u001b[1;32m~\\Desktop\\Python_scripts\\Teacher.py\u001b[0m in \u001b[0;36mteacher_login_console\u001b[1;34m()\u001b[0m\n\u001b[0;32m     40\u001b[0m         \u001b[0mShowAll\u001b[0m\u001b[1;33m.\u001b[0m\u001b[0mShowAll_result\u001b[0m\u001b[1;33m(\u001b[0m\u001b[1;33m)\u001b[0m\u001b[1;33m\u001b[0m\u001b[1;33m\u001b[0m\u001b[0m\n\u001b[0;32m     41\u001b[0m     \u001b[1;32melif\u001b[0m \u001b[0mchoice1\u001b[0m \u001b[1;33m==\u001b[0m \u001b[1;36m4\u001b[0m\u001b[1;33m:\u001b[0m\u001b[1;33m\u001b[0m\u001b[1;33m\u001b[0m\u001b[0m\n\u001b[1;32m---> 42\u001b[1;33m         \u001b[0mMainPage\u001b[0m\u001b[1;33m.\u001b[0m\u001b[0mLogin_page\u001b[0m\u001b[1;33m(\u001b[0m\u001b[1;33m)\u001b[0m\u001b[1;33m\u001b[0m\u001b[1;33m\u001b[0m\u001b[0m\n\u001b[0m\u001b[0;32m     43\u001b[0m     \u001b[1;32melse\u001b[0m\u001b[1;33m:\u001b[0m\u001b[1;33m\u001b[0m\u001b[1;33m\u001b[0m\u001b[0m\n\u001b[0;32m     44\u001b[0m         \u001b[0mprint\u001b[0m\u001b[1;33m(\u001b[0m\u001b[1;34m\"Invalid choice!! Please enter your choice again...\"\u001b[0m\u001b[1;33m)\u001b[0m\u001b[1;33m\u001b[0m\u001b[1;33m\u001b[0m\u001b[0m\n",
      "\u001b[1;31mNameError\u001b[0m: name 'MainPage' is not defined"
     ]
    }
   ],
   "source": [
    "import Teacher\n",
    "import header\n",
    "import Student\n",
    "Debug = \"True\"\n",
    "import pdb\n",
    "\n",
    "def Login_page():\n",
    "    print(\"\\n1. Teacher Login\")\n",
    "    print(\"2. Student Login\")\n",
    "    print(\"3. Exit\")\n",
    "    choice=int(input(\"Please enter your choice to login\"))\n",
    "    if choice == 1 :\n",
    "        Teacher.teacher_login()\n",
    "    elif choice == 2 :\n",
    "        Student.student_login()\n",
    "    elif choice == 3 :\n",
    "        print(\"Thanks You!! Have a good day!!\")\n",
    "    else:\n",
    "        print(\"Invalid choice, please enter again....\")\n",
    "\n",
    "if __name__ == '__main__':\n",
    "    header.headers(\"Vidya Niketan school\")\n",
    "    Login_page()"
   ]
  },
  {
   "cell_type": "code",
   "execution_count": null,
   "metadata": {},
   "outputs": [],
   "source": []
  },
  {
   "cell_type": "code",
   "execution_count": null,
   "metadata": {},
   "outputs": [],
   "source": []
  },
  {
   "cell_type": "code",
   "execution_count": null,
   "metadata": {},
   "outputs": [],
   "source": []
  }
 ],
 "metadata": {
  "kernelspec": {
   "display_name": "Python 3",
   "language": "python",
   "name": "python3"
  },
  "language_info": {
   "codemirror_mode": {
    "name": "ipython",
    "version": 3
   },
   "file_extension": ".py",
   "mimetype": "text/x-python",
   "name": "python",
   "nbconvert_exporter": "python",
   "pygments_lexer": "ipython3",
   "version": "3.7.9"
  }
 },
 "nbformat": 4,
 "nbformat_minor": 4
}
